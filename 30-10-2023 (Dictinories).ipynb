{
 "cells": [
  {
   "cell_type": "markdown",
   "id": "f139a4f7",
   "metadata": {},
   "source": [
    "# Documantation of dictonaries (30-10-2023) class"
   ]
  },
  {
   "cell_type": "markdown",
   "id": "8fc8045f",
   "metadata": {},
   "source": [
    "## Dictonaries"
   ]
  },
  {
   "cell_type": "markdown",
   "id": "8fc483e6",
   "metadata": {},
   "source": [
    "### In Python, a dictionary is a built-in data structure used to store collections of data in a key-value pair format. Each element in a dictionary consists of a key and its corresponding value."
   ]
  },
  {
   "cell_type": "markdown",
   "id": "5e01e592",
   "metadata": {},
   "source": [
    " ### Keys are unique within a dictionary, and they are used to access the associated values. Dictionaries are often used for fast and efficient data retrieval based on keys."
   ]
  },
  {
   "cell_type": "markdown",
   "id": "13c1b928",
   "metadata": {},
   "source": [
    "### Syntax : my_dict = {}"
   ]
  },
  {
   "cell_type": "code",
   "execution_count": 31,
   "id": "3ab528da",
   "metadata": {},
   "outputs": [
    {
     "data": {
      "text/plain": [
       "{1: [1, 2, 3], 'hello': ['hii']}"
      ]
     },
     "execution_count": 31,
     "metadata": {},
     "output_type": "execute_result"
    }
   ],
   "source": [
    "x = {1:[1,2,3],'hello':(4,5,6), 'hello':['hii']}\n",
    "x"
   ]
  },
  {
   "cell_type": "code",
   "execution_count": 32,
   "id": "0464f281",
   "metadata": {},
   "outputs": [
    {
     "data": {
      "text/plain": [
       "'hii'"
      ]
     },
     "execution_count": 32,
     "metadata": {},
     "output_type": "execute_result"
    }
   ],
   "source": [
    "x['hello'][0]"
   ]
  },
  {
   "cell_type": "code",
   "execution_count": 33,
   "id": "41a11672",
   "metadata": {},
   "outputs": [
    {
     "data": {
      "text/plain": [
       "['__class__',\n",
       " '__class_getitem__',\n",
       " '__contains__',\n",
       " '__delattr__',\n",
       " '__delitem__',\n",
       " '__dir__',\n",
       " '__doc__',\n",
       " '__eq__',\n",
       " '__format__',\n",
       " '__ge__',\n",
       " '__getattribute__',\n",
       " '__getitem__',\n",
       " '__getstate__',\n",
       " '__gt__',\n",
       " '__hash__',\n",
       " '__init__',\n",
       " '__init_subclass__',\n",
       " '__ior__',\n",
       " '__iter__',\n",
       " '__le__',\n",
       " '__len__',\n",
       " '__lt__',\n",
       " '__ne__',\n",
       " '__new__',\n",
       " '__or__',\n",
       " '__reduce__',\n",
       " '__reduce_ex__',\n",
       " '__repr__',\n",
       " '__reversed__',\n",
       " '__ror__',\n",
       " '__setattr__',\n",
       " '__setitem__',\n",
       " '__sizeof__',\n",
       " '__str__',\n",
       " '__subclasshook__',\n",
       " 'clear',\n",
       " 'copy',\n",
       " 'fromkeys',\n",
       " 'get',\n",
       " 'items',\n",
       " 'keys',\n",
       " 'pop',\n",
       " 'popitem',\n",
       " 'setdefault',\n",
       " 'update',\n",
       " 'values']"
      ]
     },
     "execution_count": 33,
     "metadata": {},
     "output_type": "execute_result"
    }
   ],
   "source": [
    "dir(dict)"
   ]
  },
  {
   "cell_type": "code",
   "execution_count": 30,
   "id": "cf32ddb8",
   "metadata": {},
   "outputs": [
    {
     "data": {
      "text/plain": [
       "{1: 11, 2: 22}"
      ]
     },
     "execution_count": 30,
     "metadata": {},
     "output_type": "execute_result"
    }
   ],
   "source": [
    "x = dict([(1,11),(2,22)])\n",
    "x"
   ]
  },
  {
   "cell_type": "code",
   "execution_count": 34,
   "id": "faeb020d",
   "metadata": {},
   "outputs": [
    {
     "data": {
      "text/plain": [
       "{1: [11, 22], 2: 22}"
      ]
     },
     "execution_count": 34,
     "metadata": {},
     "output_type": "execute_result"
    }
   ],
   "source": [
    "x=dict([(1,[11,22]),(2,22)])\n",
    "x"
   ]
  },
  {
   "cell_type": "code",
   "execution_count": 12,
   "id": "a17dbb43",
   "metadata": {},
   "outputs": [
    {
     "data": {
      "text/plain": [
       "{1: [11, 22], 2: 33}"
      ]
     },
     "execution_count": 12,
     "metadata": {},
     "output_type": "execute_result"
    }
   ],
   "source": [
    "x=dict([(1,[11,22]),(2,33)])\n",
    "x"
   ]
  },
  {
   "cell_type": "code",
   "execution_count": 9,
   "id": "19385e02",
   "metadata": {},
   "outputs": [
    {
     "data": {
      "text/plain": [
       "{'k1': 1, 'k2': 2, 'k3': 3}"
      ]
     },
     "execution_count": 9,
     "metadata": {},
     "output_type": "execute_result"
    }
   ],
   "source": [
    "x = {'k1':1, 'k2':2,'k3':3}\n",
    "x"
   ]
  },
  {
   "cell_type": "markdown",
   "id": "8265038b",
   "metadata": {},
   "source": [
    "## get()"
   ]
  },
  {
   "cell_type": "markdown",
   "id": "3ca3c067",
   "metadata": {},
   "source": [
    "### get() method is used to retrieve the value associated with a given key in a dictionary."
   ]
  },
  {
   "cell_type": "markdown",
   "id": "d3dc138f",
   "metadata": {},
   "source": [
    "### his method allows you to access dictionary values in a way that provides a default value if the key does not exist in the dictionary."
   ]
  },
  {
   "cell_type": "markdown",
   "id": "b6903465",
   "metadata": {},
   "source": [
    "### by calling ('key name') :if the given key was not found it throughs an error"
   ]
  },
  {
   "cell_type": "code",
   "execution_count": 11,
   "id": "54c79650",
   "metadata": {},
   "outputs": [
    {
     "data": {
      "text/plain": [
       "{'k1': 1, 'k2': 2, 'k3': 3}"
      ]
     },
     "execution_count": 11,
     "metadata": {},
     "output_type": "execute_result"
    }
   ],
   "source": [
    "x.get('k')\n",
    "x"
   ]
  },
  {
   "cell_type": "code",
   "execution_count": 37,
   "id": "a985be37",
   "metadata": {},
   "outputs": [
    {
     "data": {
      "text/plain": [
       "{'k1': 1, 'k2': 2, 'k3': 3, 'k4': 4}"
      ]
     },
     "execution_count": 37,
     "metadata": {},
     "output_type": "execute_result"
    }
   ],
   "source": [
    "x['k4']=4\n",
    "x"
   ]
  },
  {
   "cell_type": "code",
   "execution_count": 38,
   "id": "3e2b3ff3",
   "metadata": {},
   "outputs": [
    {
     "data": {
      "text/plain": [
       "{'k1': 111, 'k2': 2, 'k3': 3, 'k4': 4}"
      ]
     },
     "execution_count": 38,
     "metadata": {},
     "output_type": "execute_result"
    }
   ],
   "source": [
    "x['k1']=111\n",
    "x"
   ]
  },
  {
   "cell_type": "markdown",
   "id": "59f9e28a",
   "metadata": {},
   "source": [
    "## update()"
   ]
  },
  {
   "cell_type": "markdown",
   "id": "e1b1ce0a",
   "metadata": {},
   "source": [
    "### update() method is used to update the content of a dictionary by adding key-value pairs from another dictionary or an iterable (such as a list of tuples)."
   ]
  },
  {
   "cell_type": "markdown",
   "id": "ba133624",
   "metadata": {},
   "source": [
    "### This method allows you to merge the contents of one dictionary into another."
   ]
  },
  {
   "cell_type": "code",
   "execution_count": 14,
   "id": "55640652",
   "metadata": {},
   "outputs": [
    {
     "data": {
      "text/plain": [
       "{1: [11, 22], 2: 33, 'k7': 7, 'k8': 8}"
      ]
     },
     "execution_count": 14,
     "metadata": {},
     "output_type": "execute_result"
    }
   ],
   "source": [
    "x.update({'k7':7,'k8':8})\n",
    "x"
   ]
  },
  {
   "cell_type": "code",
   "execution_count": 39,
   "id": "14a43d0d",
   "metadata": {},
   "outputs": [
    {
     "data": {
      "text/plain": [
       "{'k1': 111, 'k2': 2, 'k3': 3, 'k4': 4, 'k7': 7, 'k8': 8}"
      ]
     },
     "execution_count": 39,
     "metadata": {},
     "output_type": "execute_result"
    }
   ],
   "source": [
    "x.update({'k7':7,'k8':8})\n",
    "x"
   ]
  },
  {
   "cell_type": "code",
   "execution_count": 42,
   "id": "a1816d60",
   "metadata": {},
   "outputs": [
    {
     "name": "stdout",
     "output_type": "stream",
     "text": [
      "{}\n",
      "<class 'dict'>\n",
      "0x203bcdaf000\n",
      "{'k1': 111, 'k2': 2, 'k3': 3, 'k4': 4, 'k7': 7, 'k8': 8}\n",
      "<class 'dict'>\n",
      "0x203bcdaf000\n"
     ]
    }
   ],
   "source": [
    "a = {}\n",
    "print(a, type(a),hex(id(a)), sep = '\\n')\n",
    "\n",
    "\n",
    "a.update(x)\n",
    "print(a,type(a),hex(id(a)),sep = '\\n')"
   ]
  },
  {
   "cell_type": "code",
   "execution_count": 43,
   "id": "0e1fba4f",
   "metadata": {},
   "outputs": [
    {
     "data": {
      "text/plain": [
       "{'k1': 111, 'k2': 2, 'k3': 3, 'k4': 4, 'k7': 7, 'k8': 8}"
      ]
     },
     "execution_count": 43,
     "metadata": {},
     "output_type": "execute_result"
    }
   ],
   "source": [
    "a"
   ]
  },
  {
   "cell_type": "markdown",
   "id": "eb461e61",
   "metadata": {},
   "source": [
    "## keys()"
   ]
  },
  {
   "cell_type": "markdown",
   "id": "92e38297",
   "metadata": {},
   "source": [
    "### typically refer to the unique identifiers used in dictionaries to access their associated values."
   ]
  },
  {
   "cell_type": "markdown",
   "id": "84f45187",
   "metadata": {},
   "source": [
    "### A dictionary is a built-in data structure that stores collections of data in a key-value pair format, and keys are used to access and retrieve the associated values. "
   ]
  },
  {
   "cell_type": "markdown",
   "id": "b94af316",
   "metadata": {},
   "source": [
    "### Keys must be unique within a dictionary, and they are typically immutable data types, such as strings, numbers, or tuples"
   ]
  },
  {
   "cell_type": "code",
   "execution_count": 44,
   "id": "1922b213",
   "metadata": {},
   "outputs": [
    {
     "data": {
      "text/plain": [
       "dict_keys(['k1', 'k2', 'k3', 'k4', 'k7', 'k8'])"
      ]
     },
     "execution_count": 44,
     "metadata": {},
     "output_type": "execute_result"
    }
   ],
   "source": [
    "a.keys()"
   ]
  },
  {
   "cell_type": "code",
   "execution_count": 46,
   "id": "26b8c956",
   "metadata": {},
   "outputs": [
    {
     "name": "stdout",
     "output_type": "stream",
     "text": [
      "dict_keys(['k1', 'k2', 'k3', 'k4', 'k7', 'k8'])\n",
      "<class 'dict_keys'>\n",
      "6\n",
      "['k1', 'k2', 'k3', 'k4', 'k7', 'k8']\n",
      "<class 'list'>\n",
      "6\n"
     ]
    }
   ],
   "source": [
    "akeys = a.keys()\n",
    "print(akeys,type(akeys),len(akeys),sep = '\\n')\n",
    "\n",
    "\n",
    "akeys = list(akeys)\n",
    "print(akeys,type(akeys),len(akeys),sep = '\\n')\n",
    "\n"
   ]
  },
  {
   "cell_type": "markdown",
   "id": "e6844a6c",
   "metadata": {},
   "source": [
    "## values()"
   ]
  },
  {
   "cell_type": "markdown",
   "id": "690b418d",
   "metadata": {},
   "source": [
    "### \"values\" in the context of dictionaries refer to the data associated with keys in a dictionary."
   ]
  },
  {
   "cell_type": "markdown",
   "id": "56fa68c0",
   "metadata": {},
   "source": [
    "### Dictionaries are a built-in data structure that stores collections of data in a key-value pair format. "
   ]
  },
  {
   "cell_type": "code",
   "execution_count": 49,
   "id": "99d88bc7",
   "metadata": {},
   "outputs": [
    {
     "data": {
      "text/plain": [
       "dict_values([111, 2, 3, 4, 7, 8])"
      ]
     },
     "execution_count": 49,
     "metadata": {},
     "output_type": "execute_result"
    }
   ],
   "source": [
    "a.values()"
   ]
  },
  {
   "cell_type": "code",
   "execution_count": 51,
   "id": "623010ad",
   "metadata": {},
   "outputs": [
    {
     "name": "stdout",
     "output_type": "stream",
     "text": [
      "dict_values([111, 2, 3, 4, 7, 8])\n",
      "<class 'dict_values'>\n",
      "6\n",
      "[111, 2, 3, 4, 7, 8]\n",
      "<class 'list'>\n",
      "6\n"
     ]
    }
   ],
   "source": [
    "avalues=a.values()\n",
    "print(avalues,type(avalues),len(avalues),sep='\\n')\n",
    "\n",
    "avalues = list(avalues)\n",
    "print(avalues,type(avalues),len(avalues),sep='\\n')"
   ]
  },
  {
   "cell_type": "markdown",
   "id": "dbd9bcff",
   "metadata": {},
   "source": [
    "## items()"
   ]
  },
  {
   "cell_type": "markdown",
   "id": "d824f543",
   "metadata": {},
   "source": [
    "### \"items\" in the context of dictionaries refer to the key-value pairs within the dictionary. Each key-value pair is considered an \"item\" in the dictionary."
   ]
  },
  {
   "cell_type": "markdown",
   "id": "93b9e2b8",
   "metadata": {},
   "source": [
    "###  Dictionaries are a built-in data structure that stores collections of data in a key-value pair format, "
   ]
  },
  {
   "cell_type": "code",
   "execution_count": 55,
   "id": "005188e6",
   "metadata": {},
   "outputs": [
    {
     "data": {
      "text/plain": [
       "dict_items([('k1', 111), ('k2', 2), ('k3', 3), ('k4', 4), ('k7', 7), ('k8', 8)])"
      ]
     },
     "execution_count": 55,
     "metadata": {},
     "output_type": "execute_result"
    }
   ],
   "source": [
    "a.items()"
   ]
  },
  {
   "cell_type": "markdown",
   "id": "1008205a",
   "metadata": {},
   "source": [
    "## pop()"
   ]
  },
  {
   "cell_type": "markdown",
   "id": "383ef2be",
   "metadata": {},
   "source": [
    "### pop() method is used to remove and return an item (key-value pair) from a dictionary based on a specified key."
   ]
  },
  {
   "cell_type": "markdown",
   "id": "f4ab1b47",
   "metadata": {},
   "source": [
    "### This method is commonly used to extract a value from a dictionary while also removing the corresponding key-value pair. "
   ]
  },
  {
   "cell_type": "markdown",
   "id": "5690085b",
   "metadata": {},
   "source": [
    " ### If the specified key is not found in the dictionary, you can provide a default value to return, or a KeyError will be raised.\n",
    "\n",
    "### syntax\n",
    "\n",
    "### dictionary.pop(key, default)"
   ]
  },
  {
   "cell_type": "code",
   "execution_count": 57,
   "id": "3e46e3e9",
   "metadata": {},
   "outputs": [
    {
     "data": {
      "text/plain": [
       "111"
      ]
     },
     "execution_count": 57,
     "metadata": {},
     "output_type": "execute_result"
    }
   ],
   "source": [
    "a.pop('k1')"
   ]
  },
  {
   "cell_type": "markdown",
   "id": "0b369896",
   "metadata": {},
   "source": [
    "## popitem()"
   ]
  },
  {
   "cell_type": "code",
   "execution_count": 26,
   "id": "c7a2f481",
   "metadata": {},
   "outputs": [
    {
     "data": {
      "text/plain": [
       "('k8', 8)"
      ]
     },
     "execution_count": 26,
     "metadata": {},
     "output_type": "execute_result"
    }
   ],
   "source": [
    "x.popitem()"
   ]
  },
  {
   "cell_type": "markdown",
   "id": "04296822",
   "metadata": {},
   "source": [
    "## fromkeys()"
   ]
  },
  {
   "cell_type": "markdown",
   "id": "ffd6cc83",
   "metadata": {},
   "source": [
    "### In Python, the fromkeys() method is used to create a new dictionary with specified keys and an optional default value for those keys. This method is useful when you want to initialize a dictionary with a set of keys and assign a default value to each key.\n",
    "\n",
    "\n",
    "\n",
    "\n",
    "### Syntax :\n",
    "\n",
    "### dict.fromkeys(keys, value)"
   ]
  },
  {
   "cell_type": "markdown",
   "id": "19159b0c",
   "metadata": {},
   "source": [
    "### where;\n",
    "\n",
    "### dict: The class name of the dictionary (e.g., dict).\n",
    "\n",
    "\n",
    "### keys: A sequence (such as a list, tuple, or iterable) of keys that you want to initialize in the dictionary.\n",
    "\n",
    "\n",
    "### value (optional): The default value to assign to each key. If this parameter is not provided, it defaults to None."
   ]
  },
  {
   "cell_type": "code",
   "execution_count": 58,
   "id": "5b8f987e",
   "metadata": {},
   "outputs": [
    {
     "data": {
      "text/plain": [
       "{'k2': 2, 'k3': 3, 'k4': 4, 'k7': 7, 'k8': 8}"
      ]
     },
     "execution_count": 58,
     "metadata": {},
     "output_type": "execute_result"
    }
   ],
   "source": [
    "a            # in this (a) we have pop the K1,111  so that k1 is not shown"
   ]
  },
  {
   "cell_type": "code",
   "execution_count": 59,
   "id": "bf61c725",
   "metadata": {},
   "outputs": [
    {
     "data": {
      "text/plain": [
       "{'k1': 111, 'k2': 2, 'k3': 3, 'k4': 4, 'k7': 7, 'k8': 8}"
      ]
     },
     "execution_count": 59,
     "metadata": {},
     "output_type": "execute_result"
    }
   ],
   "source": [
    "x            # in this (x) we have popitem of k8,8  so that it not shown 8"
   ]
  },
  {
   "cell_type": "code",
   "execution_count": 60,
   "id": "9602b9f7",
   "metadata": {},
   "outputs": [
    {
     "data": {
      "text/plain": [
       "{'k2': None, 'k3': None, 'k4': None, 'k7': None, 'k8': None}"
      ]
     },
     "execution_count": 60,
     "metadata": {},
     "output_type": "execute_result"
    }
   ],
   "source": [
    "b=dict.fromkeys(a)\n",
    "b"
   ]
  },
  {
   "cell_type": "code",
   "execution_count": 61,
   "id": "b4bddaf4",
   "metadata": {},
   "outputs": [
    {
     "data": {
      "text/plain": [
       "{'k2': None, 'k3': None, 'k4': None, 'k7': None, 'k8': None}"
      ]
     },
     "execution_count": 61,
     "metadata": {},
     "output_type": "execute_result"
    }
   ],
   "source": [
    "c={'g':'god','h':'holla'}\n",
    "z=c.fromkeys(a)\n",
    "z"
   ]
  },
  {
   "cell_type": "code",
   "execution_count": 62,
   "id": "01bda5ad",
   "metadata": {},
   "outputs": [
    {
     "ename": "TypeError",
     "evalue": "fromkeys expected at least 1 argument, got 0",
     "output_type": "error",
     "traceback": [
      "\u001b[1;31m---------------------------------------------------------------------------\u001b[0m",
      "\u001b[1;31mTypeError\u001b[0m                                 Traceback (most recent call last)",
      "Cell \u001b[1;32mIn[62], line 1\u001b[0m\n\u001b[1;32m----> 1\u001b[0m zz\u001b[38;5;241m=\u001b[39mc\u001b[38;5;241m.\u001b[39mfromkeys()\n\u001b[0;32m      2\u001b[0m zz\n",
      "\u001b[1;31mTypeError\u001b[0m: fromkeys expected at least 1 argument, got 0"
     ]
    }
   ],
   "source": [
    "zz=c.fromkeys()\n",
    "zz"
   ]
  }
 ],
 "metadata": {
  "kernelspec": {
   "display_name": "Python 3 (ipykernel)",
   "language": "python",
   "name": "python3"
  },
  "language_info": {
   "codemirror_mode": {
    "name": "ipython",
    "version": 3
   },
   "file_extension": ".py",
   "mimetype": "text/x-python",
   "name": "python",
   "nbconvert_exporter": "python",
   "pygments_lexer": "ipython3",
   "version": "3.11.5"
  }
 },
 "nbformat": 4,
 "nbformat_minor": 5
}
